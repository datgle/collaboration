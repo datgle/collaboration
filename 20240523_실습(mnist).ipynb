{
  "nbformat": 4,
  "nbformat_minor": 0,
  "metadata": {
    "colab": {
      "provenance": [],
      "gpuType": "T4",
      "authorship_tag": "ABX9TyME5DGFimPvCkcMRxwppSCv",
      "include_colab_link": true
    },
    "kernelspec": {
      "name": "python3",
      "display_name": "Python 3"
    },
    "language_info": {
      "name": "python"
    },
    "accelerator": "GPU"
  },
  "cells": [
    {
      "cell_type": "markdown",
      "metadata": {
        "id": "view-in-github",
        "colab_type": "text"
      },
      "source": [
        "<a href=\"https://colab.research.google.com/github/datgle/collaboration/blob/main/20240523_%EC%8B%A4%EC%8A%B5(mnist).ipynb\" target=\"_parent\"><img src=\"https://colab.research.google.com/assets/colab-badge.svg\" alt=\"Open In Colab\"/></a>"
      ]
    },
    {
      "cell_type": "code",
      "execution_count": 4,
      "metadata": {
        "id": "57KMUCA7FgvX"
      },
      "outputs": [],
      "source": [
        "import keras"
      ]
    },
    {
      "cell_type": "code",
      "source": [
        "from tensorflow.keras.models import Sequential #순차 신경망 레이어\n",
        "from tensorflow.keras.layers import Dense, Activation\n",
        "from tensorflow.keras.utils import to_categorical\n",
        "from tensorflow.keras.datasets import mnist #글씨체(우체국 우편번호) 모아놓은 데이터\n",
        "import numpy as np\n",
        "import matplotlib.pyplot as plt             #차트 및 시각화\n"
      ],
      "metadata": {
        "id": "c3RNX0CaIe7E"
      },
      "execution_count": 3,
      "outputs": []
    },
    {
      "cell_type": "code",
      "source": [
        "#데이터셋 로딩\n",
        "(x_train, y_train), (x_test, y_test) = mnist.load_data()\n",
        "print(\"x_train shape\", x_train.shape)\n",
        "print(\"y_train shape\", y_train.shape)\n",
        "print(\"x_test shape\", x_train.shape)\n",
        "print(\"y_test shape\", y_test.shape)\n",
        "\n",
        "#flatting\n",
        "X_train = x_train.reshape(60000,784)\n",
        "X_test = x_test.reshape(10000,784)\n",
        "\n",
        "X_train = X_train.astype('float32')\n",
        "X_test = X_test.astype('float32')\n",
        "\n",
        "#큰수에 편향되는것을 방지하기 위하여 정규화 과정을 거치는것, 0~1사이의 소숫점으로 표현된다.*(기말문제)*\n",
        "X_train /= 255\n",
        "X_test /= 255\n",
        "\n",
        "print(\"X Training matrix shape\", X_train.shape)\n",
        "print(\"X Testing matrix shape\", X_test.shape)\n",
        "\n",
        "#one-hot incoding사용\n",
        "Y_train = to_categorical(y_train, 10)\n",
        "Y_test = to_categorical(y_test, 10)\n",
        "print(\"Y Training matrix shape\", Y_train.shape)\n",
        "print(\"Y Testing matrix shape\", Y_test.shape)\n",
        "\n",
        "#인공지능 모델 설계(층 설계)\n",
        "model = Sequential()\n",
        "model.add(Dense(512, input_shape=(784,)))\n",
        "model.add(Activation('relu'))\n",
        "model.add(Dense(256))\n",
        "model.add(Activation('relu'))\n",
        "model.add(Dense(10))   #결과값이 10개이므로 10개의 노드를 생성\n",
        "model.add(Activation('softmax'))\n",
        "model.summary()\n",
        "\n",
        "#학습\n",
        "model.compile(loss='categorical_crossentropy', optimizer='adam', metrics=['accuracy'])\n",
        "model.fit(X_train, Y_train, batch_size=128, epochs=10, verbose=1)\n",
        "\n",
        "#성능 테스트(과적합 테스트)\n",
        "score = model.evaluate(X_test, Y_test)\n",
        "print('Test score: ', score[0])\n",
        "print('Test accuracy: ', score[1])"
      ],
      "metadata": {
        "colab": {
          "base_uri": "https://localhost:8080/"
        },
        "id": "FpERCOvIM64H",
        "outputId": "38664370-c1d4-4733-848f-b75fea63a48a"
      },
      "execution_count": 8,
      "outputs": [
        {
          "output_type": "stream",
          "name": "stdout",
          "text": [
            "x_train shape (60000, 28, 28)\n",
            "y_train shape (60000,)\n",
            "x_test shape (60000, 28, 28)\n",
            "y_test shape (10000,)\n",
            "X Training matrix shape (60000, 784)\n",
            "X Testing matrix shape (10000, 784)\n",
            "Y Training matrix shape (60000, 10)\n",
            "Y Testing matrix shape (10000, 10)\n",
            "Model: \"sequential_2\"\n",
            "_________________________________________________________________\n",
            " Layer (type)                Output Shape              Param #   \n",
            "=================================================================\n",
            " dense_6 (Dense)             (None, 512)               401920    \n",
            "                                                                 \n",
            " activation_6 (Activation)   (None, 512)               0         \n",
            "                                                                 \n",
            " dense_7 (Dense)             (None, 256)               131328    \n",
            "                                                                 \n",
            " activation_7 (Activation)   (None, 256)               0         \n",
            "                                                                 \n",
            " dense_8 (Dense)             (None, 10)                2570      \n",
            "                                                                 \n",
            " activation_8 (Activation)   (None, 10)                0         \n",
            "                                                                 \n",
            "=================================================================\n",
            "Total params: 535818 (2.04 MB)\n",
            "Trainable params: 535818 (2.04 MB)\n",
            "Non-trainable params: 0 (0.00 Byte)\n",
            "_________________________________________________________________\n",
            "Epoch 1/10\n",
            "469/469 [==============================] - 3s 4ms/step - loss: 0.2290 - accuracy: 0.9336\n",
            "Epoch 2/10\n",
            "469/469 [==============================] - 2s 3ms/step - loss: 0.0833 - accuracy: 0.9749\n",
            "Epoch 3/10\n",
            "469/469 [==============================] - 2s 3ms/step - loss: 0.0530 - accuracy: 0.9837\n",
            "Epoch 4/10\n",
            "469/469 [==============================] - 2s 3ms/step - loss: 0.0388 - accuracy: 0.9874\n",
            "Epoch 5/10\n",
            "469/469 [==============================] - 2s 3ms/step - loss: 0.0273 - accuracy: 0.9916\n",
            "Epoch 6/10\n",
            "469/469 [==============================] - 2s 3ms/step - loss: 0.0245 - accuracy: 0.9920\n",
            "Epoch 7/10\n",
            "469/469 [==============================] - 2s 3ms/step - loss: 0.0184 - accuracy: 0.9942\n",
            "Epoch 8/10\n",
            "469/469 [==============================] - 2s 4ms/step - loss: 0.0172 - accuracy: 0.9942\n",
            "Epoch 9/10\n",
            "469/469 [==============================] - 2s 4ms/step - loss: 0.0111 - accuracy: 0.9965\n",
            "Epoch 10/10\n",
            "469/469 [==============================] - 2s 3ms/step - loss: 0.0158 - accuracy: 0.9947\n",
            "313/313 [==============================] - 1s 2ms/step - loss: 0.0840 - accuracy: 0.9793\n",
            "Test score:  0.0839761421084404\n",
            "Test accuracy:  0.9793000221252441\n"
          ]
        }
      ]
    }
  ]
}